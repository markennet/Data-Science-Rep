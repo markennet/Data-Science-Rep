{
    "cells": [
        {
            "cell_type": "markdown",
            "metadata": {
                "collapsed": true
            },
            "source": "# My Jupyter Notebook on IBM Watson Studio"
        },
        {
            "cell_type": "markdown",
            "metadata": {},
            "source": "**Marco Sinigaglia**"
        },
        {
            "cell_type": "markdown",
            "metadata": {},
            "source": "Data Scientist Expert"
        },
        {
            "cell_type": "markdown",
            "metadata": {},
            "source": "*I am interested in data science because I would like to solve business problems using new and modern methods and techniques. Moreover, I consider Data Science is a key element to provide real value to modern companies.*"
        },
        {
            "cell_type": "markdown",
            "metadata": {},
            "source": "### The following code is aimed to demonstrate that 2+2 is actually 4:"
        },
        {
            "cell_type": "code",
            "execution_count": 1,
            "metadata": {},
            "outputs": [
                {
                    "name": "stdout",
                    "output_type": "stream",
                    "text": "2 + 2 = 4\n"
                }
            ],
            "source": "a = 2\nb = 2\nc = a+b\nprint (str(a) + ' + ' + str(b) + ' = ' + str(c))\n"
        },
        {
            "cell_type": "markdown",
            "metadata": {},
            "source": "> Blockquotes\n"
        },
        {
            "cell_type": "markdown",
            "metadata": {},
            "source": "**Table**:\n\n|Column A|Column B|Column C|\n| ----|:-----:| -----:|\n|A|B|1|\n|C|D|2|"
        },
        {
            "cell_type": "markdown",
            "metadata": {},
            "source": "**List**\n1. One\n2. Two\n3. Three"
        },
        {
            "cell_type": "markdown",
            "metadata": {},
            "source": ""
        },
        {
            "cell_type": "code",
            "execution_count": null,
            "metadata": {},
            "outputs": [],
            "source": ""
        },
        {
            "cell_type": "code",
            "execution_count": null,
            "metadata": {},
            "outputs": [],
            "source": ""
        }
    ],
    "metadata": {
        "kernelspec": {
            "display_name": "Python 3.9",
            "language": "python",
            "name": "python3"
        },
        "language_info": {
            "codemirror_mode": {
                "name": "ipython",
                "version": 3
            },
            "file_extension": ".py",
            "mimetype": "text/x-python",
            "name": "python",
            "nbconvert_exporter": "python",
            "pygments_lexer": "ipython3",
            "version": "3.9.12"
        }
    },
    "nbformat": 4,
    "nbformat_minor": 1
}
